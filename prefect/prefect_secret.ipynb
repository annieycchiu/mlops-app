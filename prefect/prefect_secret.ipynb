{
 "cells": [
  {
   "cell_type": "code",
   "execution_count": 2,
   "metadata": {},
   "outputs": [
    {
     "data": {
      "text/plain": [
       "UUID('5a98714d-cd11-48d2-be50-9bb3fdead127')"
      ]
     },
     "execution_count": 2,
     "metadata": {},
     "output_type": "execute_result"
    }
   ],
   "source": [
    "from prefect.blocks.system import Secret\n",
    "\n",
    "# Save the secret\n",
    "secret_block = Secret(value='AB230fc')\n",
    "await secret_block.save(name='socrata-app-token-demo', overwrite=True)"
   ]
  },
  {
   "cell_type": "code",
   "execution_count": 3,
   "metadata": {},
   "outputs": [
    {
     "name": "stdout",
     "output_type": "stream",
     "text": [
      "AB230fc\n"
     ]
    }
   ],
   "source": [
    "from prefect.blocks.system import Secret\n",
    "\n",
    "# Load the secret\n",
    "secret_block = await Secret.load('socrata-app-token-demo')\n",
    "loaded_secret = secret_block.get()\n",
    "print(loaded_secret)"
   ]
  },
  {
   "cell_type": "code",
   "execution_count": null,
   "metadata": {},
   "outputs": [],
   "source": []
  }
 ],
 "metadata": {
  "kernelspec": {
   "display_name": "Python 3",
   "language": "python",
   "name": "python3"
  },
  "language_info": {
   "codemirror_mode": {
    "name": "ipython",
    "version": 3
   },
   "file_extension": ".py",
   "mimetype": "text/x-python",
   "name": "python",
   "nbconvert_exporter": "python",
   "pygments_lexer": "ipython3",
   "version": "3.10.10"
  }
 },
 "nbformat": 4,
 "nbformat_minor": 2
}
